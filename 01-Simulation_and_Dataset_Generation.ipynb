{
 "cells": [
  {
   "cell_type": "markdown",
   "metadata": {
    "id": "591NmSylr5Kx"
   },
   "source": [
    "# 5G UE-VBS Selection ML Model\n",
    "\n",
    "## Simulation of UEs and Dataset Generation\n",
    "\n",
    "In this notebook, we will generate the dataset to build the classification model. This model will determine if a User Equipment (UE) can become a 5G Virtual Base Station (VBS) or not.\n",
    "\n",
    "* <strong>Environment setup:</strong> import libraries and load the dataset\n",
    "* <strong>Simulation:</strong> Generating the Co-ordinates of the UEs\n",
    "* <strong>Clustering:</strong> the UEs based on Distance from the Base Station\n",
    "* <strong>Dataset Generation:</strong> for classification"
   ]
  },
  {
   "cell_type": "markdown",
   "metadata": {
    "id": "QRVdfIajr5Lm"
   },
   "source": [
    "## Environment Setup"
   ]
  },
  {
   "cell_type": "code",
   "execution_count": 1,
   "metadata": {
    "executionInfo": {
     "elapsed": 1596,
     "status": "ok",
     "timestamp": 1630241302584,
     "user": {
      "displayName": "Sriram M",
      "photoUrl": "https://lh3.googleusercontent.com/a-/AOh14GiFCNu4C0VByiqBFar7VgeVFUJ2O7lS3iKhLVZ7eA=s64",
      "userId": "10674952948654981182"
     },
     "user_tz": -330
    },
    "id": "5ndvEpbcs5wq"
   },
   "outputs": [],
   "source": [
    "import math\n",
    "import random\n",
    "\n",
    "import numpy as np\n",
    "import pandas as pd\n",
    "import matplotlib.pyplot as plt\n",
    "\n",
    "from scipy.spatial.distance import cdist\n",
    "from sklearn.cluster import KMeans\n",
    "from sklearn.cluster import MeanShift, estimate_bandwidth\n",
    "\n",
    "from sklearn.metrics import silhouette_samples, silhouette_score"
   ]
  },
  {
   "cell_type": "code",
   "execution_count": 2,
   "metadata": {},
   "outputs": [
    {
     "name": "stdout",
     "output_type": "stream",
     "text": [
      "[WinError 183] Cannot create a file when that file already exists: './Data'\n",
      "[WinError 183] Cannot create a file when that file already exists: './Trial'\n",
      "[WinError 183] Cannot create a file when that file already exists: './Fig'\n",
      "[WinError 183] Cannot create a file when that file already exists: './Eps'\n",
      "[WinError 183] Cannot create a file when that file already exists: './Classifiers'\n",
      "[WinError 183] Cannot create a file when that file already exists: './SMOTE'\n"
     ]
    },
    {
     "data": {
      "text/plain": [
       "'./Data/master_simulation_1000_2500.csv'"
      ]
     },
     "execution_count": 2,
     "metadata": {},
     "output_type": "execute_result"
    }
   ],
   "source": [
    "import os\n",
    "import shutil\n",
    "\n",
    "directories = ['./Data', './Fig', './Eps', './Classifiers', './SMOTE']\n",
    "\n",
    "# create directories if they don't exist\n",
    "for directory in directories:\n",
    "    try:\n",
    "        os.mkdir(directory)\n",
    "    except OSError as error:\n",
    "        print(error)\n",
    "#         pass\n",
    "        \n",
    "shutil.copy('master_simulation_1000_2500.csv', './Data/')"
   ]
  },
  {
   "cell_type": "markdown",
   "metadata": {
    "id": "byjMb3FAr5Lt"
   },
   "source": [
    "## Generating the Co-ordinates of the UEs\n"
   ]
  },
  {
   "cell_type": "markdown",
   "metadata": {
    "id": "1UU0Uax7r5Lv"
   },
   "source": [
    "### Helper for generating the co-ordinates\n"
   ]
  },
  {
   "cell_type": "code",
   "execution_count": 3,
   "metadata": {
    "executionInfo": {
     "elapsed": 29,
     "status": "ok",
     "timestamp": 1630241304827,
     "user": {
      "displayName": "Sriram M",
      "photoUrl": "https://lh3.googleusercontent.com/a-/AOh14GiFCNu4C0VByiqBFar7VgeVFUJ2O7lS3iKhLVZ7eA=s64",
      "userId": "10674952948654981182"
     },
     "user_tz": -330
    },
    "id": "TV1F-pgftSFr"
   },
   "outputs": [],
   "source": [
    "def get_coordinates(number_of_ue_devices = 100, max_range=100):\n",
    "    # default number of UE devices = 100\n",
    "    coordinates = []\n",
    "\n",
    "    for i in range(number_of_ue_devices):\n",
    "        # Return the next random floating point number in the range [0.0, 1.0) - random.random()\n",
    "        # By multiplying with 1000, the effective range shifts to [0, 1000) \n",
    "        coordinates.append([(random.random() * max_range), (random.random() * max_range)])\n",
    "    return np.array(coordinates)"
   ]
  },
  {
   "cell_type": "code",
   "execution_count": 4,
   "metadata": {
    "executionInfo": {
     "elapsed": 30,
     "status": "ok",
     "timestamp": 1630241304829,
     "user": {
      "displayName": "Sriram M",
      "photoUrl": "https://lh3.googleusercontent.com/a-/AOh14GiFCNu4C0VByiqBFar7VgeVFUJ2O7lS3iKhLVZ7eA=s64",
      "userId": "10674952948654981182"
     },
     "user_tz": -330
    },
    "id": "8izybP-mxW4Z"
   },
   "outputs": [],
   "source": [
    "# initial coordinates at T1\n",
    "number_of_ue_devices = 100\n",
    "max_range = 1000\n",
    "c = get_coordinates(number_of_ue_devices, max_range)\n",
    "\n",
    "# Constant Parameters for propogation\n",
    "\n",
    "dt = 20 #time interval\n",
    "speed = [ random.randint(-10, 10) for _ in range(number_of_ue_devices) ]; # random speeds\n",
    "angle =  [ random.randint(10, 350) for _ in range(number_of_ue_devices)] ; # random angles\n",
    "\n",
    "# Base-Station Coordintes \n",
    "base_station_coordinates = [[500, 500]]\n",
    "\n",
    "# At Time-0\n",
    "x_1 = np.array([ i[0] for i in c ])\n",
    "y_1 = np.array([ i[1] for i in c ])\n",
    "\n",
    "# At Time-1\n",
    "x_2 = [ x_1[i] + (speed[i] * dt) for i in range(number_of_ue_devices)]\n",
    "y_2 = [ y_1[i] + (math.cos(angle[i]) * math.pi / 180) * dt for i in range(number_of_ue_devices)]\n",
    "\n",
    "# At Time-2\n",
    "x_3 = [ x_2[i] + (speed[i] * dt) for i in range(number_of_ue_devices)]\n",
    "y_3 = [ y_2[i] + (math.cos(angle[i]) * math.pi / 180) * dt for i in range(number_of_ue_devices)]"
   ]
  },
  {
   "cell_type": "markdown",
   "metadata": {
    "id": "rBjEtNvMr5L6"
   },
   "source": [
    "### Visualizing the movement of the UEs"
   ]
  },
  {
   "cell_type": "code",
   "execution_count": 5,
   "metadata": {
    "colab": {
     "base_uri": "https://localhost:8080/",
     "height": 441
    },
    "executionInfo": {
     "elapsed": 45,
     "status": "ok",
     "timestamp": 1630241304845,
     "user": {
      "displayName": "Sriram M",
      "photoUrl": "https://lh3.googleusercontent.com/a-/AOh14GiFCNu4C0VByiqBFar7VgeVFUJ2O7lS3iKhLVZ7eA=s64",
      "userId": "10674952948654981182"
     },
     "user_tz": -330
    },
    "id": "Bzgh3BaYr5L7",
    "outputId": "fde4ac08-2d4c-44d8-ae20-e32c697807ed",
    "scrolled": true
   },
   "outputs": [
    {
     "data": {
      "image/png": "[encoded data removed]",
      "text/plain": [
       "<Figure size 720x432 with 4 Axes>"
      ]
     },
     "metadata": {
      "needs_background": "light"
     },
     "output_type": "display_data"
    }
   ],
   "source": [
    "fig, axs = plt.subplots(2, 2, figsize=(10, 6))\n",
    "# fig.suptitle(\"Visualizing the movement of the UEs\", fontsize='20', fontweight='light')\n",
    "axs[0, 0].scatter(x_1, y_1, c='pink')\n",
    "axs[0, 0].set_title(\"Co-ordinates of the UEs at T1\", fontsize='15', fontweight='light')\n",
    "axs[0, 1].scatter(x_2, y_2, c='cornflowerblue')\n",
    "axs[0, 1].set_title(\"Co-ordinates of the UEs at T2\", fontsize='15', fontweight='light')\n",
    "axs[1, 0].scatter(x_3, y_3, c='coral')\n",
    "axs[1, 0].set_title(\"Co-ordinates of the UEs at T3\", fontsize='15', fontweight='light')\n",
    "axs[1, 1].scatter(x_1, y_1, c='pink')\n",
    "axs[1, 1].scatter(x_2, y_2, c='cornflowerblue')\n",
    "axs[1, 1].scatter(x_3, y_3, c='coral')\n",
    "axs[1, 1].scatter(50, 50, marker='X', c='black')\n",
    "axs[1, 1].set_title(\"All\", fontsize='15', fontweight='light')\n",
    "fig.tight_layout()\n",
    "plt.savefig(\"Fig/01-01-UE-Movement_in_Time_and_Space.png\")\n",
    "plt.savefig(\"Eps/01-01-UE-Movement_in_Time_and_Space.eps\", format='eps')"
   ]
  },
  {
   "cell_type": "markdown",
   "metadata": {
    "id": "yDTMwz8-r5Ml"
   },
   "source": [
    "## Clustering the UEs based on Distance from the Base Station"
   ]
  },
  {
   "cell_type": "markdown",
   "metadata": {
    "id": "PTUqANrar5Mx"
   },
   "source": [
    "### Determining the ideal value for the number of clusters"
   ]
  },
  {
   "cell_type": "markdown",
   "metadata": {},
   "source": [
    "The <strong>Silhouette Score</strong> and <strong>Silhouette Plot</strong> are used to measure the separation distance between clusters. It displays a measure of how close each point in a cluster is to points in the neighbouring clusters. This measure has a range of <strong>[-1, 1]</strong> and is a great tool to visually inspect the similarities within clusters and differences across clusters.<br>\n",
    "<strong>Silhouette Score</strong> is calculated using the mean <strong>intra-cluster distance (i)</strong>\n",
    "<strong>mean nearest-cluster distance (n)</strong> for each sample.<br>\n",
    "The <strong>Silhouette Coefficient</strong> for a sample is <strong>(n - i) / max(i, n)</strong>.\n",
    "- <strong>n</strong>: is the distance between each sample and the nearest cluster that the sample is not a part of\n",
    "- <strong>i</strong>: is the mean distance within each cluster\n",
    "    \n",
    "Important Points about Silhouette Plots:\n",
    "- The typical Silhouette Plots represent the cluster label on the y-axis, while the actual Silhouette Score on the x-axis\n",
    "- The size/thickness of the silhouettes is also proportional to the number of samples inside that cluster\n",
    "- The higher the Silhouette Coefficients (the closer to +1), the further away the cluster’s samples are from the neighbouring clusters samples\n",
    "- A value of 0 indicates that the sample is on or very close to the decision boundary between two neighbouring clusters\n",
    "- Negative values, instead, indicate that those samples might have been assigned to the wrong cluster\n",
    "- Averaging the Silhouette Coefficients, we can get to a global Silhouette Score which can be used to describe the entire population’s performance with a single value"
   ]
  },
  {
   "cell_type": "code",
   "execution_count": 6,
   "metadata": {
    "colab": {
     "base_uri": "https://localhost:8080/",
     "height": 1000
    },
    "executionInfo": {
     "elapsed": 12382,
     "status": "ok",
     "timestamp": 1630241327196,
     "user": {
      "displayName": "Sriram M",
      "photoUrl": "https://lh3.googleusercontent.com/a-/AOh14GiFCNu4C0VByiqBFar7VgeVFUJ2O7lS3iKhLVZ7eA=s64",
      "userId": "10674952948654981182"
     },
     "user_tz": -330
    },
    "id": "RsMx6mT6r5M0",
    "outputId": "81787f0b-2cfd-4de4-ca3b-8d853397d128"
   },
   "outputs": [
    {
     "data": {
      "image/png": "[encoded data removed]",
      "text/plain": [
       "<Figure size 1080x360 with 2 Axes>"
      ]
     },
     "metadata": {
      "needs_background": "light"
     },
     "output_type": "display_data"
    },
    {
     "data": {
      "image/png": "[encoded data removed]",
      "text/plain": [
       "<Figure size 1080x360 with 2 Axes>"
      ]
     },
     "metadata": {
      "needs_background": "light"
     },
     "output_type": "display_data"
    },
    {
     "data": {
      "image/png": "[encoded data removed]",
      "text/plain": [
       "<Figure size 1080x360 with 2 Axes>"
      ]
     },
     "metadata": {
      "needs_background": "light"
     },
     "output_type": "display_data"
    },
    {
     "data": {
      "image/png": "[encoded data removed]",
      "text/plain": [
       "<Figure size 1080x360 with 2 Axes>"
      ]
     },
     "metadata": {
      "needs_background": "light"
     },
     "output_type": "display_data"
    }
   ],
   "source": [
    "for i,k in enumerate([2,3,4,5]):\n",
    "    \n",
    "    fig, ax = plt.subplots(1,2,figsize=(15,5))\n",
    "\n",
    "    # Run the kmeans algorithm\n",
    "    km = KMeans(n_clusters=k)\n",
    "    y_predict = km.fit_predict(c)\n",
    "    centroids = np.unique(y_predict)\n",
    "    \n",
    "    # get silhouette\n",
    "    silhouette_vals = silhouette_samples(c, y_predict)\n",
    "\n",
    "    # silhouette plot\n",
    "    y_ticks = []\n",
    "    y_lower = y_upper = 0\n",
    "\n",
    "    for i, cluster in enumerate(np.unique(y_predict)):\n",
    "        cluster_silhouette_vals = silhouette_vals[y_predict ==cluster]\n",
    "        cluster_silhouette_vals.sort()\n",
    "        y_upper += len(cluster_silhouette_vals)\n",
    "\n",
    "        ax[0].barh(range(y_lower,y_upper), cluster_silhouette_vals,height =1);\n",
    "        ax[0].text(-0.03,(y_lower+y_upper)/2,str(i+1))\n",
    "        y_lower += len(cluster_silhouette_vals)\n",
    "\n",
    "        # Get the average silhouette score \n",
    "        avg_score = np.mean(silhouette_vals)\n",
    "        ax[0].axvline(avg_score,linestyle ='--', linewidth =2,color = 'green')\n",
    "        ax[0].set_yticks([])\n",
    "        ax[0].set_xlim([-0.1, 1])\n",
    "        ax[0].set_title('Silhouette plot for the various clusters');\n",
    "\n",
    "\n",
    "        # scatter plot of data colored with labels\n",
    "        for cl in centroids:\n",
    "            row_ix = np.where(y_predict == cl)\n",
    "            ax[1].scatter(c[row_ix, 0], c[row_ix, 1])\n",
    "            \n",
    "        cl_centres = km.cluster_centers_\n",
    "            \n",
    "        ax[1].scatter(cl_centres[:, 0], cl_centres[:, 1], marker = '*' , c= 'black',s =250);\n",
    "        ax[1].set_title('Visualization of clustered data', y=1.02)\n",
    "\n",
    "        plt.tight_layout()\n",
    "        plt.suptitle(f' Silhouette analysis using k = {k}',fontsize=16, fontweight = 'light')\n",
    "    #     plt.savefig(f'Silhouette_analysis_{k}.jpg')"
   ]
  },
  {
   "cell_type": "markdown",
   "metadata": {},
   "source": [
    "### K-Means"
   ]
  },
  {
   "cell_type": "code",
   "execution_count": 7,
   "metadata": {
    "colab": {
     "base_uri": "https://localhost:8080/",
     "height": 265
    },
    "executionInfo": {
     "elapsed": 39,
     "status": "ok",
     "timestamp": 1630241304847,
     "user": {
      "displayName": "Sriram M",
      "photoUrl": "https://lh3.googleusercontent.com/a-/AOh14GiFCNu4C0VByiqBFar7VgeVFUJ2O7lS3iKhLVZ7eA=s64",
      "userId": "10674952948654981182"
     },
     "user_tz": -330
    },
    "id": "ju8UWWrp_r28",
    "outputId": "728599f6-fca6-42ad-a93c-79bcc42b8ca2"
   },
   "outputs": [
    {
     "data": {
      "image/png": "[encoded data removed]",
      "text/plain": [
       "<Figure size 432x288 with 1 Axes>"
      ]
     },
     "metadata": {
      "needs_background": "light"
     },
     "output_type": "display_data"
    }
   ],
   "source": [
    "model_1 = KMeans(n_clusters=4)\n",
    "model_1.fit(c)\n",
    "yhat_1 = model_1.predict(c)\n",
    "clusters_1 = np.unique(yhat_1)\n",
    "\n",
    "fig = plt.figure()\n",
    "for cluster in clusters_1:\n",
    "    row_ix = np.where(yhat_1 == cluster)\n",
    "    plt.scatter(c[row_ix, 0], c[row_ix, 1])\n",
    "\n",
    "plt.show()\n",
    "fig.savefig(\"Fig/01-02-KMeans_Clustering.png\")\n",
    "fig.savefig(\"Eps/01-02-KMeans_Clustering.eps\", format='eps')"
   ]
  },
  {
   "cell_type": "markdown",
   "metadata": {},
   "source": [
    "### Mean Shift"
   ]
  },
  {
   "cell_type": "code",
   "execution_count": 8,
   "metadata": {
    "colab": {
     "base_uri": "https://localhost:8080/",
     "height": 265
    },
    "executionInfo": {
     "elapsed": 10016,
     "status": "ok",
     "timestamp": 1630241314827,
     "user": {
      "displayName": "Sriram M",
      "photoUrl": "https://lh3.googleusercontent.com/a-/AOh14GiFCNu4C0VByiqBFar7VgeVFUJ2O7lS3iKhLVZ7eA=s64",
      "userId": "10674952948654981182"
     },
     "user_tz": -330
    },
    "id": "9er0TPfx-J0z",
    "outputId": "41b8d3e8-ca58-4fdb-db83-d7026753f939"
   },
   "outputs": [
    {
     "data": {
      "image/png": "[encoded data removed]",
      "text/plain": [
       "<Figure size 432x288 with 1 Axes>"
      ]
     },
     "metadata": {
      "needs_background": "light"
     },
     "output_type": "display_data"
    }
   ],
   "source": [
    "# hyper-parameter: bandwidth: for further documentation -> https://scikit-learn.org/stable/modules/generated/sklearn.cluster.MeanShift.html?highlight=meanshift#sklearn.cluster.MeanShift\n",
    "bandwidth = estimate_bandwidth(c, quantile=0.2, n_samples=number_of_ue_devices)\n",
    "\n",
    "model_2 = MeanShift(bandwidth=bandwidth)\n",
    "yhat_2 = model_2.fit_predict(c) # various cluster ids\n",
    "\n",
    "clusters_2 = np.unique(yhat_2)\n",
    "\n",
    "fig = plt.figure()\n",
    "for cluster in clusters_2:\n",
    "\trow_ix = np.where(yhat_2 == cluster)\n",
    "\tplt.scatter(c[row_ix, 0], c[row_ix, 1])    \n",
    "\n",
    "plt.show()\n",
    "fig.savefig(\"Fig/01-03-Mean_Shift_Clustering.png\")\n",
    "fig.savefig(\"Eps/01-03-Mean_Shift_Clustering.eps\", format='eps')"
   ]
  },
  {
   "cell_type": "code",
   "execution_count": 9,
   "metadata": {
    "colab": {
     "base_uri": "https://localhost:8080/",
     "height": 373
    },
    "executionInfo": {
     "elapsed": 24,
     "status": "ok",
     "timestamp": 1630241314830,
     "user": {
      "displayName": "Sriram M",
      "photoUrl": "https://lh3.googleusercontent.com/a-/AOh14GiFCNu4C0VByiqBFar7VgeVFUJ2O7lS3iKhLVZ7eA=s64",
      "userId": "10674952948654981182"
     },
     "user_tz": -330
    },
    "id": "2GthZ7fBr5Mr",
    "outputId": "8cd1c670-bd93-4407-e9b4-5c120be40886",
    "scrolled": true
   },
   "outputs": [
    {
     "data": {
      "image/png": "[encoded data removed]",
      "text/plain": [
       "<Figure size 864x360 with 2 Axes>"
      ]
     },
     "metadata": {
      "needs_background": "light"
     },
     "output_type": "display_data"
    }
   ],
   "source": [
    "fig, (ax1, ax2) = plt.subplots(1, 2, figsize=(12, 5))\n",
    "fig.suptitle(\"Clustering Results\", fontsize='20', fontweight='light')\n",
    "\n",
    "# K-Means\n",
    "ax1.set_title(\"K-Means\", fontsize='15', fontweight='light')\n",
    "\n",
    "for cluster in clusters_1:\n",
    "    row_ix = np.where(yhat_1 == cluster)\n",
    "    ax1.scatter(c[row_ix, 0], c[row_ix, 1])\n",
    "\n",
    "# Cluster Centers\n",
    "ax1.scatter(model_1.cluster_centers_[:, 0], model_1.cluster_centers_[:, 1], s=100, c='grey', marker='*')\n",
    "# Base Station\n",
    "ax1.scatter(500, 500, s=200, c='black', marker=\"+\")\n",
    "\n",
    "# Mean-Shift\n",
    "ax2.set_title(\"Mean-Shift\", fontsize='15', fontweight='light')\n",
    "\n",
    "for cluster in clusters_2:\n",
    "    row_ix = np.where(yhat_2 == cluster)\n",
    "    ax2.scatter(c[row_ix, 0], c[row_ix, 1])\n",
    "\n",
    "# Cluster Centers\n",
    "ax2.scatter(model_2.cluster_centers_[:, 0], model_2.cluster_centers_[:, 1], s=100, c='grey', marker='*')\n",
    "    \n",
    "# Base Stattion\n",
    "ax2.scatter(500, 500, s=200, c='black', marker=\"+\")\n",
    "fig.tight_layout()\n",
    "\n",
    "fig.savefig(\"Fig/01-04-KMeans_and_Mean_Shift_Clustering.png\")\n",
    "fig.savefig(\"Eps/01-04-KMeans_and_Mean_Shift_Clustering.eps\", format='eps')"
   ]
  },
  {
   "cell_type": "markdown",
   "metadata": {
    "id": "WC5JV6eEr5M6"
   },
   "source": [
    "### Performace comaparison between Mean-Shift and K-Means\n"
   ]
  },
  {
   "cell_type": "code",
   "execution_count": 10,
   "metadata": {},
   "outputs": [
    {
     "name": "stdout",
     "output_type": "stream",
     "text": [
      "K-Means Silhouette Score for k=4:  0.41552454381024523\n",
      "Mean Shift Silhouette Score:  0.395769473218822\n"
     ]
    }
   ],
   "source": [
    "print(\"K-Means Silhouette Score for k=4: \", silhouette_score(c, yhat_1, metric='euclidean'))\n",
    "print(\"Mean Shift Silhouette Score: \", silhouette_score(c, yhat_2, metric='euclidean'))"
   ]
  },
  {
   "cell_type": "markdown",
   "metadata": {
    "id": "E1pexata7A16"
   },
   "source": [
    "## Dataset Generation\n"
   ]
  },
  {
   "cell_type": "markdown",
   "metadata": {
    "id": "dz01ebg_r5M_"
   },
   "source": [
    "### Parameters used in the log-normal path loss model"
   ]
  },
  {
   "cell_type": "code",
   "execution_count": 11,
   "metadata": {
    "executionInfo": {
     "elapsed": 54,
     "status": "ok",
     "timestamp": 1630241327201,
     "user": {
      "displayName": "Sriram M",
      "photoUrl": "https://lh3.googleusercontent.com/a-/AOh14GiFCNu4C0VByiqBFar7VgeVFUJ2O7lS3iKhLVZ7eA=s64",
      "userId": "10674952948654981182"
     },
     "user_tz": -330
    },
    "id": "OdOLcTitE8MS"
   },
   "outputs": [],
   "source": [
    "# Battery information \n",
    "instantanous_battery_amount = np.array([ (random.random() * 400) + 500 for _ in range(number_of_ue_devices) ]) \n",
    "decay = np.array([ random.randrange(1, 15) + 5 for _ in range(number_of_ue_devices) ])\n",
    "battery_discharge_rate = np.array(instantanous_battery_amount/decay)\n",
    "\n",
    "_alpha = 0.5\n",
    "_beta = 0.5\n",
    "_lambda = 4\n",
    "\n",
    "# Parameters used in the log-normal path loss model \n",
    "\n",
    "speed_of_light = 3e8 \n",
    "frequency = 5e9\n",
    "frequency_4g = 1.9e9\n",
    "wavelength = speed_of_light / frequency\n",
    "wavelength_4g= speed_of_light / frequency_4g\n",
    "\n",
    "dref = 10;\n",
    "tx_antenna_gain = 1 # db\n",
    "rx_antenna_gain = 1 # db\n",
    "tx_power = 0.25; # watt\n",
    "path_loss_exponent = 4 # Line Of sight\n",
    "PTxdBm = 10 * math.log10(tx_power*1000); # db <-> watt conversion\n",
    "gaussian_random_variable = np.random.randn() * 0.1\n",
    "standard_base_station_power = 43\n",
    "\n",
    "sigma = 6; # Sigma from 6 to 12 - Principles of communication systems simulation with wireless application P.548\n",
    "distance_msr = 60;\n",
    "\n",
    "# to calculate data rate (noisy channel)\n",
    "# data_rate = bandwidth * log2(1 + SNR) bits/sec\n",
    "# bandwidth = 800 MHz -> https://blogs.keysight.com/blogs/inds.entry.html/2018/10/31/understanding_5gnew-iYIV.html"
   ]
  },
  {
   "cell_type": "markdown",
   "metadata": {
    "id": "JQ5pRDpBr5ND"
   },
   "source": [
    "### Adding Primary Parameters\n",
    "1. Distance from base station \n",
    "2. Battery Discharge Rates\n",
    "3. Power "
   ]
  },
  {
   "cell_type": "code",
   "execution_count": 12,
   "metadata": {
    "executionInfo": {
     "elapsed": 54,
     "status": "ok",
     "timestamp": 1630241327203,
     "user": {
      "displayName": "Sriram M",
      "photoUrl": "https://lh3.googleusercontent.com/a-/AOh14GiFCNu4C0VByiqBFar7VgeVFUJ2O7lS3iKhLVZ7eA=s64",
      "userId": "10674952948654981182"
     },
     "user_tz": -330
    },
    "id": "8BFVgVPC_FP3"
   },
   "outputs": [],
   "source": [
    "# cluster-wise seperation\n",
    "clusters = np.unique(yhat_2)\n",
    "df = pd.DataFrame(columns = ['x', 'y', 'cluster_number', 'distance_from_base_station', 'battery_discharge_rate'])\n",
    "for cluster in clusters:\n",
    "    # temp dataframe\n",
    "    df2 = pd.DataFrame(columns = ['x', 'y', 'cluster_number', 'distance_from_base_station', 'battery_discharge_rate'])\n",
    "\n",
    "    # indices corresponding each cluster\n",
    "    row_ix = np.where(yhat_2 == cluster)\n",
    "\n",
    "    # cluster number\n",
    "    df2['cluster_number'] = np.array([cluster] * len(row_ix[0]))\n",
    "\n",
    "    # storing the coordinates\n",
    "    df2['x'] = c[row_ix, 0].reshape(-1)\n",
    "    df2['y'] = c[row_ix, 1].reshape(-1)\n",
    "\n",
    "    # storing the distances\n",
    "    df2['distance_from_base_station'] = cdist(c[row_ix], base_station_coordinates)\n",
    "\n",
    "    # battery dischage rate\n",
    "    df2['battery_discharge_rate'] = battery_discharge_rate[row_ix]\n",
    "\n",
    "    df = df.append(df2, ignore_index = True)"
   ]
  },
  {
   "cell_type": "code",
   "execution_count": 13,
   "metadata": {
    "executionInfo": {
     "elapsed": 54,
     "status": "ok",
     "timestamp": 1630241327205,
     "user": {
      "displayName": "Sriram M",
      "photoUrl": "https://lh3.googleusercontent.com/a-/AOh14GiFCNu4C0VByiqBFar7VgeVFUJ2O7lS3iKhLVZ7eA=s64",
      "userId": "10674952948654981182"
     },
     "user_tz": -330
    },
    "id": "lv6_4wQG_Nf9"
   },
   "outputs": [],
   "source": [
    "# power from the base station \n",
    "df['M'] = wavelength / ( 4 * math.pi * df['distance_from_base_station'] ) \n",
    "df['pr0'] = standard_base_station_power + PTxdBm + tx_antenna_gain + rx_antenna_gain - np.array([ 20 * math.log10(i) for i in (1 / df['M']) ])\n",
    "df['power'] = df['pr0'] - ( 10 * path_loss_exponent * math.log10(1/dref) ) + gaussian_random_variable\n",
    "\n",
    "# master parameter \n",
    "df['master_parameter'] = _alpha * df['power'] + _beta * df['battery_discharge_rate']"
   ]
  },
  {
   "cell_type": "code",
   "execution_count": 14,
   "metadata": {
    "executionInfo": {
     "elapsed": 50,
     "status": "ok",
     "timestamp": 1630241327207,
     "user": {
      "displayName": "Sriram M",
      "photoUrl": "https://lh3.googleusercontent.com/a-/AOh14GiFCNu4C0VByiqBFar7VgeVFUJ2O7lS3iKhLVZ7eA=s64",
      "userId": "10674952948654981182"
     },
     "user_tz": -330
    },
    "id": "ldkz9D09m79R"
   },
   "outputs": [],
   "source": [
    "# mobile configurations\n",
    "possible_rams = [4, 6, 8, 12, 16]\n",
    "df['memory'] = [ possible_rams[random.randrange(0, 4)] for _ in range(number_of_ue_devices) ] \n",
    "\n",
    "df['cpu_power'] = [ random.random() * 100 for _ in range(number_of_ue_devices) ]"
   ]
  },
  {
   "cell_type": "code",
   "execution_count": 15,
   "metadata": {
    "executionInfo": {
     "elapsed": 49,
     "status": "ok",
     "timestamp": 1630241327209,
     "user": {
      "displayName": "Sriram M",
      "photoUrl": "https://lh3.googleusercontent.com/a-/AOh14GiFCNu4C0VByiqBFar7VgeVFUJ2O7lS3iKhLVZ7eA=s64",
      "userId": "10674952948654981182"
     },
     "user_tz": -330
    },
    "id": "ZKIcT41mdgUA"
   },
   "outputs": [],
   "source": [
    "# Previous Method\n",
    "\n",
    "# Selection of eligible UE using master_parameter\n",
    "# cluster_means = []\n",
    "\n",
    "# for cluster in clusters:\n",
    "#   cluster_means.append(df[df['cluster_number'] == cluster]['master_parameter'].mean())\n",
    "\n",
    "# cluster_means = np.array(cluster_means)\n",
    "\n",
    "# df['eligibility'] = df['master_parameter'] > cluster_means[list(df['cluster_number'])]"
   ]
  },
  {
   "cell_type": "markdown",
   "metadata": {
    "id": "pDKDimZSr5NS"
   },
   "source": [
    "## Adding additional parameters \n",
    "1. Data Rate\n",
    "2. QoE\n",
    "3. QoS"
   ]
  },
  {
   "cell_type": "code",
   "execution_count": 16,
   "metadata": {
    "colab": {
     "base_uri": "https://localhost:8080/",
     "height": 419
    },
    "executionInfo": {
     "elapsed": 52,
     "status": "ok",
     "timestamp": 1630241327213,
     "user": {
      "displayName": "Sriram M",
      "photoUrl": "https://lh3.googleusercontent.com/a-/AOh14GiFCNu4C0VByiqBFar7VgeVFUJ2O7lS3iKhLVZ7eA=s64",
      "userId": "10674952948654981182"
     },
     "user_tz": -330
    },
    "id": "p1UjEjOLf0Xj",
    "outputId": "081e87c1-6801-4fd8-921f-66680cfeaf75"
   },
   "outputs": [
    {
     "data": {
      "text/html": [
       "<div>\n",
       "<style scoped>\n",
       "    .dataframe tbody tr th:only-of-type {\n",
       "        vertical-align: middle;\n",
       "    }\n",
       "\n",
       "    .dataframe tbody tr th {\n",
       "        vertical-align: top;\n",
       "    }\n",
       "\n",
       "    .dataframe thead th {\n",
       "        text-align: right;\n",
       "    }\n",
       "</style>\n",
       "<table border=\"1\" class=\"dataframe\">\n",
       "  <thead>\n",
       "    <tr style=\"text-align: right;\">\n",
       "      <th></th>\n",
       "      <th>x</th>\n",
       "      <th>y</th>\n",
       "      <th>cluster_number</th>\n",
       "      <th>distance_from_base_station</th>\n",
       "      <th>battery_discharge_rate</th>\n",
       "      <th>M</th>\n",
       "      <th>pr0</th>\n",
       "      <th>power</th>\n",
       "      <th>master_parameter</th>\n",
       "      <th>memory</th>\n",
       "      <th>cpu_power</th>\n",
       "    </tr>\n",
       "  </thead>\n",
       "  <tbody>\n",
       "    <tr>\n",
       "      <th>0</th>\n",
       "      <td>579.290839</td>\n",
       "      <td>568.070537</td>\n",
       "      <td>0</td>\n",
       "      <td>104.501843</td>\n",
       "      <td>43.681927</td>\n",
       "      <td>0.000046</td>\n",
       "      <td>-17.824251</td>\n",
       "      <td>22.292899</td>\n",
       "      <td>32.987413</td>\n",
       "      <td>8</td>\n",
       "      <td>0.368672</td>\n",
       "    </tr>\n",
       "    <tr>\n",
       "      <th>1</th>\n",
       "      <td>655.583396</td>\n",
       "      <td>923.816620</td>\n",
       "      <td>0</td>\n",
       "      <td>451.471727</td>\n",
       "      <td>52.962181</td>\n",
       "      <td>0.000011</td>\n",
       "      <td>-30.534383</td>\n",
       "      <td>9.582767</td>\n",
       "      <td>31.272474</td>\n",
       "      <td>6</td>\n",
       "      <td>22.639912</td>\n",
       "    </tr>\n",
       "    <tr>\n",
       "      <th>2</th>\n",
       "      <td>991.407144</td>\n",
       "      <td>912.081070</td>\n",
       "      <td>0</td>\n",
       "      <td>641.320349</td>\n",
       "      <td>58.190389</td>\n",
       "      <td>0.000007</td>\n",
       "      <td>-33.583273</td>\n",
       "      <td>6.533878</td>\n",
       "      <td>32.362134</td>\n",
       "      <td>12</td>\n",
       "      <td>69.694647</td>\n",
       "    </tr>\n",
       "    <tr>\n",
       "      <th>3</th>\n",
       "      <td>374.393550</td>\n",
       "      <td>844.850426</td>\n",
       "      <td>0</td>\n",
       "      <td>367.013346</td>\n",
       "      <td>55.435890</td>\n",
       "      <td>0.000013</td>\n",
       "      <td>-28.735409</td>\n",
       "      <td>11.381741</td>\n",
       "      <td>33.408816</td>\n",
       "      <td>12</td>\n",
       "      <td>19.978461</td>\n",
       "    </tr>\n",
       "    <tr>\n",
       "      <th>4</th>\n",
       "      <td>481.337789</td>\n",
       "      <td>753.228695</td>\n",
       "      <td>0</td>\n",
       "      <td>253.915439</td>\n",
       "      <td>46.508656</td>\n",
       "      <td>0.000019</td>\n",
       "      <td>-25.535554</td>\n",
       "      <td>14.581596</td>\n",
       "      <td>30.545126</td>\n",
       "      <td>6</td>\n",
       "      <td>98.089775</td>\n",
       "    </tr>\n",
       "    <tr>\n",
       "      <th>...</th>\n",
       "      <td>...</td>\n",
       "      <td>...</td>\n",
       "      <td>...</td>\n",
       "      <td>...</td>\n",
       "      <td>...</td>\n",
       "      <td>...</td>\n",
       "      <td>...</td>\n",
       "      <td>...</td>\n",
       "      <td>...</td>\n",
       "      <td>...</td>\n",
       "      <td>...</td>\n",
       "    </tr>\n",
       "    <tr>\n",
       "      <th>95</th>\n",
       "      <td>68.752728</td>\n",
       "      <td>347.402025</td>\n",
       "      <td>3</td>\n",
       "      <td>457.449835</td>\n",
       "      <td>58.706515</td>\n",
       "      <td>0.000010</td>\n",
       "      <td>-30.648642</td>\n",
       "      <td>9.468509</td>\n",
       "      <td>34.087512</td>\n",
       "      <td>4</td>\n",
       "      <td>41.991330</td>\n",
       "    </tr>\n",
       "    <tr>\n",
       "      <th>96</th>\n",
       "      <td>251.811650</td>\n",
       "      <td>294.064249</td>\n",
       "      <td>3</td>\n",
       "      <td>322.501148</td>\n",
       "      <td>89.271565</td>\n",
       "      <td>0.000015</td>\n",
       "      <td>-27.612397</td>\n",
       "      <td>12.504753</td>\n",
       "      <td>50.888159</td>\n",
       "      <td>6</td>\n",
       "      <td>62.431139</td>\n",
       "    </tr>\n",
       "    <tr>\n",
       "      <th>97</th>\n",
       "      <td>59.285588</td>\n",
       "      <td>30.263004</td>\n",
       "      <td>3</td>\n",
       "      <td>644.113374</td>\n",
       "      <td>41.161181</td>\n",
       "      <td>0.000007</td>\n",
       "      <td>-33.621019</td>\n",
       "      <td>6.496132</td>\n",
       "      <td>23.828657</td>\n",
       "      <td>4</td>\n",
       "      <td>61.965649</td>\n",
       "    </tr>\n",
       "    <tr>\n",
       "      <th>98</th>\n",
       "      <td>110.473324</td>\n",
       "      <td>328.070634</td>\n",
       "      <td>3</td>\n",
       "      <td>425.782501</td>\n",
       "      <td>110.385309</td>\n",
       "      <td>0.000011</td>\n",
       "      <td>-30.025528</td>\n",
       "      <td>10.091622</td>\n",
       "      <td>60.238466</td>\n",
       "      <td>6</td>\n",
       "      <td>66.080629</td>\n",
       "    </tr>\n",
       "    <tr>\n",
       "      <th>99</th>\n",
       "      <td>341.612649</td>\n",
       "      <td>333.427412</td>\n",
       "      <td>3</td>\n",
       "      <td>229.854258</td>\n",
       "      <td>51.310576</td>\n",
       "      <td>0.000021</td>\n",
       "      <td>-24.670823</td>\n",
       "      <td>15.446327</td>\n",
       "      <td>33.378451</td>\n",
       "      <td>4</td>\n",
       "      <td>8.099453</td>\n",
       "    </tr>\n",
       "  </tbody>\n",
       "</table>\n",
       "<p>100 rows × 11 columns</p>\n",
       "</div>"
      ],
      "text/plain": [
       "             x           y cluster_number  distance_from_base_station  \\\n",
       "0   579.290839  568.070537              0                  104.501843   \n",
       "1   655.583396  923.816620              0                  451.471727   \n",
       "2   991.407144  912.081070              0                  641.320349   \n",
       "3   374.393550  844.850426              0                  367.013346   \n",
       "4   481.337789  753.228695              0                  253.915439   \n",
       "..         ...         ...            ...                         ...   \n",
       "95   68.752728  347.402025              3                  457.449835   \n",
       "96  251.811650  294.064249              3                  322.501148   \n",
       "97   59.285588   30.263004              3                  644.113374   \n",
       "98  110.473324  328.070634              3                  425.782501   \n",
       "99  341.612649  333.427412              3                  229.854258   \n",
       "\n",
       "    battery_discharge_rate         M        pr0      power  master_parameter  \\\n",
       "0                43.681927  0.000046 -17.824251  22.292899         32.987413   \n",
       "1                52.962181  0.000011 -30.534383   9.582767         31.272474   \n",
       "2                58.190389  0.000007 -33.583273   6.533878         32.362134   \n",
       "3                55.435890  0.000013 -28.735409  11.381741         33.408816   \n",
       "4                46.508656  0.000019 -25.535554  14.581596         30.545126   \n",
       "..                     ...       ...        ...        ...               ...   \n",
       "95               58.706515  0.000010 -30.648642   9.468509         34.087512   \n",
       "96               89.271565  0.000015 -27.612397  12.504753         50.888159   \n",
       "97               41.161181  0.000007 -33.621019   6.496132         23.828657   \n",
       "98              110.385309  0.000011 -30.025528  10.091622         60.238466   \n",
       "99               51.310576  0.000021 -24.670823  15.446327         33.378451   \n",
       "\n",
       "    memory  cpu_power  \n",
       "0        8   0.368672  \n",
       "1        6  22.639912  \n",
       "2       12  69.694647  \n",
       "3       12  19.978461  \n",
       "4        6  98.089775  \n",
       "..     ...        ...  \n",
       "95       4  41.991330  \n",
       "96       6  62.431139  \n",
       "97       4  61.965649  \n",
       "98       6  66.080629  \n",
       "99       4   8.099453  \n",
       "\n",
       "[100 rows x 11 columns]"
      ]
     },
     "execution_count": 16,
     "metadata": {},
     "output_type": "execute_result"
    }
   ],
   "source": [
    "df"
   ]
  },
  {
   "cell_type": "code",
   "execution_count": 17,
   "metadata": {
    "executionInfo": {
     "elapsed": 54,
     "status": "ok",
     "timestamp": 1630241327219,
     "user": {
      "displayName": "Sriram M",
      "photoUrl": "https://lh3.googleusercontent.com/a-/AOh14GiFCNu4C0VByiqBFar7VgeVFUJ2O7lS3iKhLVZ7eA=s64",
      "userId": "10674952948654981182"
     },
     "user_tz": -330
    },
    "id": "okjk-pGUCeQ5"
   },
   "outputs": [],
   "source": [
    "def signal_to_noise_ratio(ue_vbs, ue_device, cluster, power):\n",
    "  # Sending index of eUE, its position, position of receiving UE and received power\n",
    "    \n",
    "    hnm = np.random.randn() + np.random.randn()*j # Rayleigh Fading Channel\n",
    "    _lambda = 4\n",
    "    dr = []\n",
    "    gaussian_random = np.random.randn()*0.1 + 0\n",
    "    nvar = -174+10 * math.log10(100e7)\n",
    "\n",
    "    for i, row_i in cluster.iterrows():\n",
    "#         if row_i.all() != ue_device.all() and row_i.all() != ue_vbs.all():\n",
    "        rtm = ( (row_i['x'] - ue_device['x'])**2 + (row_i['y'] - ue_device['y'])**2 ) ** 0.5\n",
    "        if rtm == 0:\n",
    "            continue\n",
    "        m = wavelength / ( 4 * math.pi * rtm )\n",
    "        pr0 = row_i['power'] + tx_antenna_gain + rx_antenna_gain + ( 20 * math.log10(1/m) )\n",
    "        prx = pr0 - ( 10 * path_loss_exponent * math.log10(1/dref) ) + gaussian_random\n",
    "        rn = nvar + np.random.randn() + np.random.randn()*j * row_i['power'] * _lambda * (rtm**(-1*_lambda))\n",
    "        dr.append(rn)\n",
    "  \n",
    "#     print(dr)\n",
    "    inter = sum(dr)\n",
    "    rnm = ( (ue_vbs['x'] - ue_device['x'])**2 + (ue_vbs['y'] - ue_device['y'])**2 ) ** 0.5\n",
    "    if rnm == 0: return 0\n",
    "    sign = hnm * power * _lambda * ( rnm ** (-1 * _lambda) )\n",
    "\n",
    "    s = abs(sign/inter)\n",
    "    return s"
   ]
  },
  {
   "cell_type": "code",
   "execution_count": 18,
   "metadata": {
    "executionInfo": {
     "elapsed": 54,
     "status": "ok",
     "timestamp": 1630241327221,
     "user": {
      "displayName": "Sriram M",
      "photoUrl": "https://lh3.googleusercontent.com/a-/AOh14GiFCNu4C0VByiqBFar7VgeVFUJ2O7lS3iKhLVZ7eA=s64",
      "userId": "10674952948654981182"
     },
     "user_tz": -330
    },
    "id": "-U8lyyPnCeh2"
   },
   "outputs": [],
   "source": [
    "def spaceff(p1, p2, cluster):\n",
    "    x = []\n",
    "    for i, ue in cluster.iterrows():\n",
    "        x.append(ue['power'])\n",
    "\n",
    "    sx = sum(x)\n",
    "    sx = (sx - p2) * 0.4292\n",
    "    c2 = (p1 * 0.4292) / (p2 * 0.4292 + sx + 1)\n",
    "    se = math.log2( 1 + c2 )\n",
    "\n",
    "    return se"
   ]
  },
  {
   "cell_type": "code",
   "execution_count": 19,
   "metadata": {
    "executionInfo": {
     "elapsed": 55,
     "status": "ok",
     "timestamp": 1630241327223,
     "user": {
      "displayName": "Sriram M",
      "photoUrl": "https://lh3.googleusercontent.com/a-/AOh14GiFCNu4C0VByiqBFar7VgeVFUJ2O7lS3iKhLVZ7eA=s64",
      "userId": "10674952948654981182"
     },
     "user_tz": -330
    },
    "id": "JrKc-EEyN-eZ"
   },
   "outputs": [],
   "source": [
    "def max_mean(arr):\n",
    "  # replaces sumsinr and sumse\n",
    "    t = []\n",
    "    for i in arr:\n",
    "        t.append(i.mean())\n",
    "\n",
    "    return max(t)"
   ]
  },
  {
   "cell_type": "code",
   "execution_count": 20,
   "metadata": {
    "executionInfo": {
     "elapsed": 56,
     "status": "ok",
     "timestamp": 1630241327226,
     "user": {
      "displayName": "Sriram M",
      "photoUrl": "https://lh3.googleusercontent.com/a-/AOh14GiFCNu4C0VByiqBFar7VgeVFUJ2O7lS3iKhLVZ7eA=s64",
      "userId": "10674952948654981182"
     },
     "user_tz": -330
    },
    "id": "Spl0d_koRR86"
   },
   "outputs": [],
   "source": [
    "def quality_of_service(idx, cluster):\n",
    "    x = []\n",
    "    for i in cluster:\n",
    "        x.append(i[idx])\n",
    "    x = np.array(x)\n",
    "    x = x/x.mean()\n",
    "\n",
    "    return 1/(1+(x.var()/x.mean()))"
   ]
  },
  {
   "cell_type": "code",
   "execution_count": 21,
   "metadata": {
    "executionInfo": {
     "elapsed": 57,
     "status": "ok",
     "timestamp": 1630241327228,
     "user": {
      "displayName": "Sriram M",
      "photoUrl": "https://lh3.googleusercontent.com/a-/AOh14GiFCNu4C0VByiqBFar7VgeVFUJ2O7lS3iKhLVZ7eA=s64",
      "userId": "10674952948654981182"
     },
     "user_tz": -330
    },
    "id": "6RF4qYsur5Nd"
   },
   "outputs": [],
   "source": [
    "def quality_of_experience(idx, cluster):\n",
    "    x = []\n",
    "    for i in cluster:\n",
    "        x.append(i[idx])\n",
    "    x = np.array(x)\n",
    "    _sigma = np.std(x)\n",
    "\n",
    "    return (2*_sigma)/(max(x) - min(x))"
   ]
  },
  {
   "cell_type": "code",
   "execution_count": 22,
   "metadata": {
    "executionInfo": {
     "elapsed": 57,
     "status": "ok",
     "timestamp": 1630241327230,
     "user": {
      "displayName": "Sriram M",
      "photoUrl": "https://lh3.googleusercontent.com/a-/AOh14GiFCNu4C0VByiqBFar7VgeVFUJ2O7lS3iKhLVZ7eA=s64",
      "userId": "10674952948654981182"
     },
     "user_tz": -330
    },
    "id": "bZOPMx489icY"
   },
   "outputs": [],
   "source": [
    "# Seperation of clusters\n",
    "\n",
    "clusters_seperated = []\n",
    "for cluster in clusters:\n",
    "    clusters_seperated.append(df[df['cluster_number'] == cluster])"
   ]
  },
  {
   "cell_type": "code",
   "execution_count": 23,
   "metadata": {
    "executionInfo": {
     "elapsed": 56,
     "status": "ok",
     "timestamp": 1630241327231,
     "user": {
      "displayName": "Sriram M",
      "photoUrl": "https://lh3.googleusercontent.com/a-/AOh14GiFCNu4C0VByiqBFar7VgeVFUJ2O7lS3iKhLVZ7eA=s64",
      "userId": "10674952948654981182"
     },
     "user_tz": -330
    },
    "id": "UKxi_I2I-oX8"
   },
   "outputs": [],
   "source": [
    "# # previous version : using master_parameter\n",
    "\n",
    "# for cluster in clusters_seperated:\n",
    "#   eligible_devices = cluster[cluster['eligibility']]\n",
    "#   ss = []\n",
    "#   sp = []\n",
    "\n",
    "#   for i, row_i in eligible_devices.iterrows():\n",
    "#     for j, row_j in cluster.iterrows():\n",
    "#       if i != j:\n",
    "#         distance_from_eligible_ue = ( (row_i['x'] - row_j['x'])**2 + (row_i['y'] - row_j['y'])**2 )**0.5\n",
    "#         m = wavelength / ( 4 * math.pi * distance_from_eligible_ue )\n",
    "#         pr0 = row_i['power'] + tx_antenna_gain + rx_antenna_gain + ( 20 * math.log10(1/m) )\n",
    "#         prx = pr0 - ( 10 * path_loss_exponent * math.log10(1/dref) ) + gaussian_random_variable\n",
    "#         s = signal_to_noise_ratio(row_i, row_j, cluster, prx)\n",
    "#         ss.append(s)\n",
    "#         se = spaceff(prx, row_i['power'], cluster)\n",
    "#         sp.append(se)\n",
    "#       else:\n",
    "#         ss.append(0);\n",
    "#         sp.append(0)\n",
    "\n",
    "#   ss1 = np.array(ss).reshape(len(eligible_devices), len(cluster))\n",
    "#   sp1 = np.array(sp).reshape(len(eligible_devices), len(cluster))\n",
    "\n",
    "#   # tss1 = max_mean(ss1)\n",
    "#   tsp1 = max_mean(sp1)\n",
    "\n",
    "#   # l = quality_of_service(tsp1, sp1)\n",
    "#   # print(tss1, tsp1, l)"
   ]
  },
  {
   "cell_type": "code",
   "execution_count": 24,
   "metadata": {
    "id": "LJunDiyTcZ_r"
   },
   "outputs": [],
   "source": [
    "qos_final = []\n",
    "snr_final = []\n",
    "qoe_final = []\n",
    "for cluster in clusters_seperated:\n",
    "    ss = []\n",
    "    sp = []\n",
    "\n",
    "    for i, row_i in cluster.iterrows():\n",
    "        for j, row_j in cluster.iterrows():\n",
    "            if i != j:\n",
    "                distance_from_eligible_ue = ( (row_i['x'] - row_j['x'])**2 + (row_i['y'] - row_j['y'])**2 )**0.5\n",
    "                m = wavelength / ( 4 * math.pi * distance_from_eligible_ue )\n",
    "                pr0 = row_i['power'] + tx_antenna_gain + rx_antenna_gain + ( 20 * math.log10(1/m) )\n",
    "                prx = pr0 - ( 10 * path_loss_exponent * math.log10(1/dref) ) + gaussian_random_variable\n",
    "                s = signal_to_noise_ratio(row_i, row_j, cluster, prx)\n",
    "                ss.append(s)\n",
    "                se = spaceff(prx, row_i['power'], cluster)\n",
    "                sp.append(se)\n",
    "            else:\n",
    "                ss.append(0);\n",
    "                sp.append(0)\n",
    "\n",
    "    ss1 = np.array(ss).reshape(len(cluster), len(cluster))\n",
    "    sp1 = np.array(sp).reshape(len(cluster), len(cluster))\n",
    "\n",
    "    qos = []\n",
    "    for i in range(len(sp1)):\n",
    "        qos.append(quality_of_service(i, sp1))\n",
    "\n",
    "    qoe = []\n",
    "    for i in range(len(sp1)):\n",
    "        qoe.append(quality_of_experience(i, sp1))\n",
    "\n",
    "    snr = []\n",
    "    for i in ss1:\n",
    "        snr.append(max_mean(i))\n",
    "\n",
    "    snr_final.extend(snr)\n",
    "    qos_final.extend(qos)\n",
    "    qoe_final.extend(qoe)\n",
    "\n",
    "df['qos'] = qos_final\n",
    "df['qoe'] = qoe_final\n",
    "df['snr'] = snr_final\n",
    "df['data_rate'] = [ 100e7 * math.log2(1 + i) for i in df['snr'] ]"
   ]
  },
  {
   "cell_type": "code",
   "execution_count": 25,
   "metadata": {
    "id": "jQ8-QhXir5Nl"
   },
   "outputs": [],
   "source": [
    "final = df.drop(['cluster_number', 'M', 'pr0', 'snr'],axis=1)\n",
    "final['master_parameter'] = 0.01 * final['data_rate'] + 0.5 * final['power'] + 0.5 * final['battery_discharge_rate'] + 0.5 * final['cpu_power'] + final['memory']"
   ]
  },
  {
   "cell_type": "code",
   "execution_count": 26,
   "metadata": {
    "id": "-NhPSeU4r5Nn"
   },
   "outputs": [
    {
     "name": "stdout",
     "output_type": "stream",
     "text": [
      "Identified outliers: 3\n",
      "Non-outlier observations: 97\n"
     ]
    }
   ],
   "source": [
    "# identify outliers with standard deviation\n",
    "from numpy.random import seed\n",
    "from numpy.random import randn\n",
    "from numpy import mean\n",
    "from numpy import std\n",
    "# seed the random number generator\n",
    "seed(1)\n",
    "# generate univariate observations\n",
    "data = final['master_parameter']\n",
    "# calculate summary statistics\n",
    "data_mean, data_std = np.mean(data), np.std(data)\n",
    "# identify outliers\n",
    "cut_off = data_std * 2\n",
    "lower, upper = data_mean - cut_off, data_mean + cut_off\n",
    "# identify outliers\n",
    "outliers = [x for x in data if x < lower or x > upper]\n",
    "print('Identified outliers: %d' % len(outliers))\n",
    "# remove outliers\n",
    "outliers_removed = [x for x in data if x >= lower and x <= upper]\n",
    "print('Non-outlier observations: %d' % len(outliers_removed))"
   ]
  },
  {
   "cell_type": "code",
   "execution_count": 27,
   "metadata": {
    "id": "NWaEBrGEr5No"
   },
   "outputs": [],
   "source": [
    "final['eligibility'] = final['master_parameter'] > np.array(outliers_removed).mean()"
   ]
  },
  {
   "cell_type": "code",
   "execution_count": 28,
   "metadata": {
    "id": "FhkqI9Vir5Np"
   },
   "outputs": [
    {
     "data": {
      "text/html": [
       "<div>\n",
       "<style scoped>\n",
       "    .dataframe tbody tr th:only-of-type {\n",
       "        vertical-align: middle;\n",
       "    }\n",
       "\n",
       "    .dataframe tbody tr th {\n",
       "        vertical-align: top;\n",
       "    }\n",
       "\n",
       "    .dataframe thead th {\n",
       "        text-align: right;\n",
       "    }\n",
       "</style>\n",
       "<table border=\"1\" class=\"dataframe\">\n",
       "  <thead>\n",
       "    <tr style=\"text-align: right;\">\n",
       "      <th></th>\n",
       "      <th>x</th>\n",
       "      <th>y</th>\n",
       "      <th>distance_from_base_station</th>\n",
       "      <th>battery_discharge_rate</th>\n",
       "      <th>power</th>\n",
       "      <th>master_parameter</th>\n",
       "      <th>memory</th>\n",
       "      <th>cpu_power</th>\n",
       "      <th>qos</th>\n",
       "      <th>qoe</th>\n",
       "      <th>data_rate</th>\n",
       "      <th>eligibility</th>\n",
       "    </tr>\n",
       "  </thead>\n",
       "  <tbody>\n",
       "    <tr>\n",
       "      <th>0</th>\n",
       "      <td>579.290839</td>\n",
       "      <td>568.070537</td>\n",
       "      <td>104.501843</td>\n",
       "      <td>43.681927</td>\n",
       "      <td>22.292899</td>\n",
       "      <td>88.473970</td>\n",
       "      <td>8</td>\n",
       "      <td>0.368672</td>\n",
       "      <td>0.968580</td>\n",
       "      <td>0.344283</td>\n",
       "      <td>4.730222e+03</td>\n",
       "      <td>False</td>\n",
       "    </tr>\n",
       "    <tr>\n",
       "      <th>1</th>\n",
       "      <td>655.583396</td>\n",
       "      <td>923.816620</td>\n",
       "      <td>451.471727</td>\n",
       "      <td>52.962181</td>\n",
       "      <td>9.582767</td>\n",
       "      <td>52.133276</td>\n",
       "      <td>6</td>\n",
       "      <td>22.639912</td>\n",
       "      <td>0.966924</td>\n",
       "      <td>0.330537</td>\n",
       "      <td>3.540846e+02</td>\n",
       "      <td>False</td>\n",
       "    </tr>\n",
       "    <tr>\n",
       "      <th>2</th>\n",
       "      <td>991.407144</td>\n",
       "      <td>912.081070</td>\n",
       "      <td>641.320349</td>\n",
       "      <td>58.190389</td>\n",
       "      <td>6.533878</td>\n",
       "      <td>79.478309</td>\n",
       "      <td>12</td>\n",
       "      <td>69.694647</td>\n",
       "      <td>0.966844</td>\n",
       "      <td>0.333179</td>\n",
       "      <td>2.688524e+01</td>\n",
       "      <td>False</td>\n",
       "    </tr>\n",
       "    <tr>\n",
       "      <th>3</th>\n",
       "      <td>374.393550</td>\n",
       "      <td>844.850426</td>\n",
       "      <td>367.013346</td>\n",
       "      <td>55.435890</td>\n",
       "      <td>11.381741</td>\n",
       "      <td>91.979230</td>\n",
       "      <td>12</td>\n",
       "      <td>19.978461</td>\n",
       "      <td>0.967343</td>\n",
       "      <td>0.333521</td>\n",
       "      <td>3.658118e+03</td>\n",
       "      <td>False</td>\n",
       "    </tr>\n",
       "    <tr>\n",
       "      <th>4</th>\n",
       "      <td>481.337789</td>\n",
       "      <td>753.228695</td>\n",
       "      <td>253.915439</td>\n",
       "      <td>46.508656</td>\n",
       "      <td>14.581596</td>\n",
       "      <td>361.466801</td>\n",
       "      <td>6</td>\n",
       "      <td>98.089775</td>\n",
       "      <td>0.967559</td>\n",
       "      <td>0.334767</td>\n",
       "      <td>2.758768e+04</td>\n",
       "      <td>False</td>\n",
       "    </tr>\n",
       "    <tr>\n",
       "      <th>...</th>\n",
       "      <td>...</td>\n",
       "      <td>...</td>\n",
       "      <td>...</td>\n",
       "      <td>...</td>\n",
       "      <td>...</td>\n",
       "      <td>...</td>\n",
       "      <td>...</td>\n",
       "      <td>...</td>\n",
       "      <td>...</td>\n",
       "      <td>...</td>\n",
       "      <td>...</td>\n",
       "      <td>...</td>\n",
       "    </tr>\n",
       "    <tr>\n",
       "      <th>95</th>\n",
       "      <td>68.752728</td>\n",
       "      <td>347.402025</td>\n",
       "      <td>457.449835</td>\n",
       "      <td>58.706515</td>\n",
       "      <td>9.468509</td>\n",
       "      <td>1357.443294</td>\n",
       "      <td>4</td>\n",
       "      <td>41.991330</td>\n",
       "      <td>0.945828</td>\n",
       "      <td>0.431949</td>\n",
       "      <td>1.298360e+05</td>\n",
       "      <td>False</td>\n",
       "    </tr>\n",
       "    <tr>\n",
       "      <th>96</th>\n",
       "      <td>251.811650</td>\n",
       "      <td>294.064249</td>\n",
       "      <td>322.501148</td>\n",
       "      <td>89.271565</td>\n",
       "      <td>12.504753</td>\n",
       "      <td>99.506477</td>\n",
       "      <td>6</td>\n",
       "      <td>62.431139</td>\n",
       "      <td>0.947256</td>\n",
       "      <td>0.437924</td>\n",
       "      <td>1.140275e+03</td>\n",
       "      <td>False</td>\n",
       "    </tr>\n",
       "    <tr>\n",
       "      <th>97</th>\n",
       "      <td>59.285588</td>\n",
       "      <td>30.263004</td>\n",
       "      <td>644.113374</td>\n",
       "      <td>41.161181</td>\n",
       "      <td>6.496132</td>\n",
       "      <td>33113.122757</td>\n",
       "      <td>4</td>\n",
       "      <td>61.965649</td>\n",
       "      <td>0.944601</td>\n",
       "      <td>0.429877</td>\n",
       "      <td>3.305431e+06</td>\n",
       "      <td>True</td>\n",
       "    </tr>\n",
       "    <tr>\n",
       "      <th>98</th>\n",
       "      <td>110.473324</td>\n",
       "      <td>328.070634</td>\n",
       "      <td>425.782501</td>\n",
       "      <td>110.385309</td>\n",
       "      <td>10.091622</td>\n",
       "      <td>126.925594</td>\n",
       "      <td>6</td>\n",
       "      <td>66.080629</td>\n",
       "      <td>0.946405</td>\n",
       "      <td>0.431116</td>\n",
       "      <td>2.764681e+03</td>\n",
       "      <td>False</td>\n",
       "    </tr>\n",
       "    <tr>\n",
       "      <th>99</th>\n",
       "      <td>341.612649</td>\n",
       "      <td>333.427412</td>\n",
       "      <td>229.854258</td>\n",
       "      <td>51.310576</td>\n",
       "      <td>15.446327</td>\n",
       "      <td>139015.750765</td>\n",
       "      <td>4</td>\n",
       "      <td>8.099453</td>\n",
       "      <td>0.946171</td>\n",
       "      <td>0.442056</td>\n",
       "      <td>1.389743e+07</td>\n",
       "      <td>True</td>\n",
       "    </tr>\n",
       "  </tbody>\n",
       "</table>\n",
       "<p>100 rows × 12 columns</p>\n",
       "</div>"
      ],
      "text/plain": [
       "             x           y  distance_from_base_station  \\\n",
       "0   579.290839  568.070537                  104.501843   \n",
       "1   655.583396  923.816620                  451.471727   \n",
       "2   991.407144  912.081070                  641.320349   \n",
       "3   374.393550  844.850426                  367.013346   \n",
       "4   481.337789  753.228695                  253.915439   \n",
       "..         ...         ...                         ...   \n",
       "95   68.752728  347.402025                  457.449835   \n",
       "96  251.811650  294.064249                  322.501148   \n",
       "97   59.285588   30.263004                  644.113374   \n",
       "98  110.473324  328.070634                  425.782501   \n",
       "99  341.612649  333.427412                  229.854258   \n",
       "\n",
       "    battery_discharge_rate      power  master_parameter  memory  cpu_power  \\\n",
       "0                43.681927  22.292899         88.473970       8   0.368672   \n",
       "1                52.962181   9.582767         52.133276       6  22.639912   \n",
       "2                58.190389   6.533878         79.478309      12  69.694647   \n",
       "3                55.435890  11.381741         91.979230      12  19.978461   \n",
       "4                46.508656  14.581596        361.466801       6  98.089775   \n",
       "..                     ...        ...               ...     ...        ...   \n",
       "95               58.706515   9.468509       1357.443294       4  41.991330   \n",
       "96               89.271565  12.504753         99.506477       6  62.431139   \n",
       "97               41.161181   6.496132      33113.122757       4  61.965649   \n",
       "98              110.385309  10.091622        126.925594       6  66.080629   \n",
       "99               51.310576  15.446327     139015.750765       4   8.099453   \n",
       "\n",
       "         qos       qoe     data_rate  eligibility  \n",
       "0   0.968580  0.344283  4.730222e+03        False  \n",
       "1   0.966924  0.330537  3.540846e+02        False  \n",
       "2   0.966844  0.333179  2.688524e+01        False  \n",
       "3   0.967343  0.333521  3.658118e+03        False  \n",
       "4   0.967559  0.334767  2.758768e+04        False  \n",
       "..       ...       ...           ...          ...  \n",
       "95  0.945828  0.431949  1.298360e+05        False  \n",
       "96  0.947256  0.437924  1.140275e+03        False  \n",
       "97  0.944601  0.429877  3.305431e+06         True  \n",
       "98  0.946405  0.431116  2.764681e+03        False  \n",
       "99  0.946171  0.442056  1.389743e+07         True  \n",
       "\n",
       "[100 rows x 12 columns]"
      ]
     },
     "execution_count": 28,
     "metadata": {},
     "output_type": "execute_result"
    }
   ],
   "source": [
    "final"
   ]
  },
  {
   "cell_type": "code",
   "execution_count": 29,
   "metadata": {
    "id": "2tksE05kr5Nr"
   },
   "outputs": [
    {
     "data": {
      "text/html": [
       "<div>\n",
       "<style scoped>\n",
       "    .dataframe tbody tr th:only-of-type {\n",
       "        vertical-align: middle;\n",
       "    }\n",
       "\n",
       "    .dataframe tbody tr th {\n",
       "        vertical-align: top;\n",
       "    }\n",
       "\n",
       "    .dataframe thead th {\n",
       "        text-align: right;\n",
       "    }\n",
       "</style>\n",
       "<table border=\"1\" class=\"dataframe\">\n",
       "  <thead>\n",
       "    <tr style=\"text-align: right;\">\n",
       "      <th></th>\n",
       "      <th>x</th>\n",
       "      <th>y</th>\n",
       "      <th>distance_from_base_station</th>\n",
       "      <th>battery_discharge_rate</th>\n",
       "      <th>power</th>\n",
       "      <th>memory</th>\n",
       "      <th>cpu_power</th>\n",
       "      <th>qos</th>\n",
       "      <th>qoe</th>\n",
       "      <th>data_rate</th>\n",
       "      <th>eligibility</th>\n",
       "    </tr>\n",
       "  </thead>\n",
       "  <tbody>\n",
       "    <tr>\n",
       "      <th>0</th>\n",
       "      <td>579.290839</td>\n",
       "      <td>568.070537</td>\n",
       "      <td>104.501843</td>\n",
       "      <td>43.681927</td>\n",
       "      <td>22.292899</td>\n",
       "      <td>8</td>\n",
       "      <td>0.368672</td>\n",
       "      <td>0.968580</td>\n",
       "      <td>0.344283</td>\n",
       "      <td>4.730222e+03</td>\n",
       "      <td>False</td>\n",
       "    </tr>\n",
       "    <tr>\n",
       "      <th>1</th>\n",
       "      <td>655.583396</td>\n",
       "      <td>923.816620</td>\n",
       "      <td>451.471727</td>\n",
       "      <td>52.962181</td>\n",
       "      <td>9.582767</td>\n",
       "      <td>6</td>\n",
       "      <td>22.639912</td>\n",
       "      <td>0.966924</td>\n",
       "      <td>0.330537</td>\n",
       "      <td>3.540846e+02</td>\n",
       "      <td>False</td>\n",
       "    </tr>\n",
       "    <tr>\n",
       "      <th>2</th>\n",
       "      <td>991.407144</td>\n",
       "      <td>912.081070</td>\n",
       "      <td>641.320349</td>\n",
       "      <td>58.190389</td>\n",
       "      <td>6.533878</td>\n",
       "      <td>12</td>\n",
       "      <td>69.694647</td>\n",
       "      <td>0.966844</td>\n",
       "      <td>0.333179</td>\n",
       "      <td>2.688524e+01</td>\n",
       "      <td>False</td>\n",
       "    </tr>\n",
       "    <tr>\n",
       "      <th>3</th>\n",
       "      <td>374.393550</td>\n",
       "      <td>844.850426</td>\n",
       "      <td>367.013346</td>\n",
       "      <td>55.435890</td>\n",
       "      <td>11.381741</td>\n",
       "      <td>12</td>\n",
       "      <td>19.978461</td>\n",
       "      <td>0.967343</td>\n",
       "      <td>0.333521</td>\n",
       "      <td>3.658118e+03</td>\n",
       "      <td>False</td>\n",
       "    </tr>\n",
       "    <tr>\n",
       "      <th>4</th>\n",
       "      <td>481.337789</td>\n",
       "      <td>753.228695</td>\n",
       "      <td>253.915439</td>\n",
       "      <td>46.508656</td>\n",
       "      <td>14.581596</td>\n",
       "      <td>6</td>\n",
       "      <td>98.089775</td>\n",
       "      <td>0.967559</td>\n",
       "      <td>0.334767</td>\n",
       "      <td>2.758768e+04</td>\n",
       "      <td>False</td>\n",
       "    </tr>\n",
       "    <tr>\n",
       "      <th>...</th>\n",
       "      <td>...</td>\n",
       "      <td>...</td>\n",
       "      <td>...</td>\n",
       "      <td>...</td>\n",
       "      <td>...</td>\n",
       "      <td>...</td>\n",
       "      <td>...</td>\n",
       "      <td>...</td>\n",
       "      <td>...</td>\n",
       "      <td>...</td>\n",
       "      <td>...</td>\n",
       "    </tr>\n",
       "    <tr>\n",
       "      <th>95</th>\n",
       "      <td>68.752728</td>\n",
       "      <td>347.402025</td>\n",
       "      <td>457.449835</td>\n",
       "      <td>58.706515</td>\n",
       "      <td>9.468509</td>\n",
       "      <td>4</td>\n",
       "      <td>41.991330</td>\n",
       "      <td>0.945828</td>\n",
       "      <td>0.431949</td>\n",
       "      <td>1.298360e+05</td>\n",
       "      <td>False</td>\n",
       "    </tr>\n",
       "    <tr>\n",
       "      <th>96</th>\n",
       "      <td>251.811650</td>\n",
       "      <td>294.064249</td>\n",
       "      <td>322.501148</td>\n",
       "      <td>89.271565</td>\n",
       "      <td>12.504753</td>\n",
       "      <td>6</td>\n",
       "      <td>62.431139</td>\n",
       "      <td>0.947256</td>\n",
       "      <td>0.437924</td>\n",
       "      <td>1.140275e+03</td>\n",
       "      <td>False</td>\n",
       "    </tr>\n",
       "    <tr>\n",
       "      <th>97</th>\n",
       "      <td>59.285588</td>\n",
       "      <td>30.263004</td>\n",
       "      <td>644.113374</td>\n",
       "      <td>41.161181</td>\n",
       "      <td>6.496132</td>\n",
       "      <td>4</td>\n",
       "      <td>61.965649</td>\n",
       "      <td>0.944601</td>\n",
       "      <td>0.429877</td>\n",
       "      <td>3.305431e+06</td>\n",
       "      <td>True</td>\n",
       "    </tr>\n",
       "    <tr>\n",
       "      <th>98</th>\n",
       "      <td>110.473324</td>\n",
       "      <td>328.070634</td>\n",
       "      <td>425.782501</td>\n",
       "      <td>110.385309</td>\n",
       "      <td>10.091622</td>\n",
       "      <td>6</td>\n",
       "      <td>66.080629</td>\n",
       "      <td>0.946405</td>\n",
       "      <td>0.431116</td>\n",
       "      <td>2.764681e+03</td>\n",
       "      <td>False</td>\n",
       "    </tr>\n",
       "    <tr>\n",
       "      <th>99</th>\n",
       "      <td>341.612649</td>\n",
       "      <td>333.427412</td>\n",
       "      <td>229.854258</td>\n",
       "      <td>51.310576</td>\n",
       "      <td>15.446327</td>\n",
       "      <td>4</td>\n",
       "      <td>8.099453</td>\n",
       "      <td>0.946171</td>\n",
       "      <td>0.442056</td>\n",
       "      <td>1.389743e+07</td>\n",
       "      <td>True</td>\n",
       "    </tr>\n",
       "  </tbody>\n",
       "</table>\n",
       "<p>100 rows × 11 columns</p>\n",
       "</div>"
      ],
      "text/plain": [
       "             x           y  distance_from_base_station  \\\n",
       "0   579.290839  568.070537                  104.501843   \n",
       "1   655.583396  923.816620                  451.471727   \n",
       "2   991.407144  912.081070                  641.320349   \n",
       "3   374.393550  844.850426                  367.013346   \n",
       "4   481.337789  753.228695                  253.915439   \n",
       "..         ...         ...                         ...   \n",
       "95   68.752728  347.402025                  457.449835   \n",
       "96  251.811650  294.064249                  322.501148   \n",
       "97   59.285588   30.263004                  644.113374   \n",
       "98  110.473324  328.070634                  425.782501   \n",
       "99  341.612649  333.427412                  229.854258   \n",
       "\n",
       "    battery_discharge_rate      power  memory  cpu_power       qos       qoe  \\\n",
       "0                43.681927  22.292899       8   0.368672  0.968580  0.344283   \n",
       "1                52.962181   9.582767       6  22.639912  0.966924  0.330537   \n",
       "2                58.190389   6.533878      12  69.694647  0.966844  0.333179   \n",
       "3                55.435890  11.381741      12  19.978461  0.967343  0.333521   \n",
       "4                46.508656  14.581596       6  98.089775  0.967559  0.334767   \n",
       "..                     ...        ...     ...        ...       ...       ...   \n",
       "95               58.706515   9.468509       4  41.991330  0.945828  0.431949   \n",
       "96               89.271565  12.504753       6  62.431139  0.947256  0.437924   \n",
       "97               41.161181   6.496132       4  61.965649  0.944601  0.429877   \n",
       "98              110.385309  10.091622       6  66.080629  0.946405  0.431116   \n",
       "99               51.310576  15.446327       4   8.099453  0.946171  0.442056   \n",
       "\n",
       "       data_rate  eligibility  \n",
       "0   4.730222e+03        False  \n",
       "1   3.540846e+02        False  \n",
       "2   2.688524e+01        False  \n",
       "3   3.658118e+03        False  \n",
       "4   2.758768e+04        False  \n",
       "..           ...          ...  \n",
       "95  1.298360e+05        False  \n",
       "96  1.140275e+03        False  \n",
       "97  3.305431e+06         True  \n",
       "98  2.764681e+03        False  \n",
       "99  1.389743e+07         True  \n",
       "\n",
       "[100 rows x 11 columns]"
      ]
     },
     "execution_count": 29,
     "metadata": {},
     "output_type": "execute_result"
    }
   ],
   "source": [
    "final.drop(['master_parameter'], axis=1)"
   ]
  },
  {
   "cell_type": "code",
   "execution_count": 30,
   "metadata": {
    "id": "h2Syk76Lr5Nt"
   },
   "outputs": [
    {
     "data": {
      "text/html": [
       "<div>\n",
       "<style scoped>\n",
       "    .dataframe tbody tr th:only-of-type {\n",
       "        vertical-align: middle;\n",
       "    }\n",
       "\n",
       "    .dataframe tbody tr th {\n",
       "        vertical-align: top;\n",
       "    }\n",
       "\n",
       "    .dataframe thead th {\n",
       "        text-align: right;\n",
       "    }\n",
       "</style>\n",
       "<table border=\"1\" class=\"dataframe\">\n",
       "  <thead>\n",
       "    <tr style=\"text-align: right;\">\n",
       "      <th></th>\n",
       "      <th>x</th>\n",
       "      <th>y</th>\n",
       "      <th>distance_from_base_station</th>\n",
       "      <th>battery_discharge_rate</th>\n",
       "      <th>power</th>\n",
       "      <th>master_parameter</th>\n",
       "      <th>memory</th>\n",
       "      <th>cpu_power</th>\n",
       "      <th>qos</th>\n",
       "      <th>qoe</th>\n",
       "      <th>data_rate</th>\n",
       "      <th>eligibility</th>\n",
       "    </tr>\n",
       "  </thead>\n",
       "  <tbody>\n",
       "    <tr>\n",
       "      <th>0</th>\n",
       "      <td>579.290839</td>\n",
       "      <td>568.070537</td>\n",
       "      <td>104.501843</td>\n",
       "      <td>43.681927</td>\n",
       "      <td>22.292899</td>\n",
       "      <td>88.473970</td>\n",
       "      <td>8</td>\n",
       "      <td>0.368672</td>\n",
       "      <td>0.968580</td>\n",
       "      <td>0.344283</td>\n",
       "      <td>4.730222e+03</td>\n",
       "      <td>False</td>\n",
       "    </tr>\n",
       "    <tr>\n",
       "      <th>1</th>\n",
       "      <td>655.583396</td>\n",
       "      <td>923.816620</td>\n",
       "      <td>451.471727</td>\n",
       "      <td>52.962181</td>\n",
       "      <td>9.582767</td>\n",
       "      <td>52.133276</td>\n",
       "      <td>6</td>\n",
       "      <td>22.639912</td>\n",
       "      <td>0.966924</td>\n",
       "      <td>0.330537</td>\n",
       "      <td>3.540846e+02</td>\n",
       "      <td>False</td>\n",
       "    </tr>\n",
       "    <tr>\n",
       "      <th>2</th>\n",
       "      <td>991.407144</td>\n",
       "      <td>912.081070</td>\n",
       "      <td>641.320349</td>\n",
       "      <td>58.190389</td>\n",
       "      <td>6.533878</td>\n",
       "      <td>79.478309</td>\n",
       "      <td>12</td>\n",
       "      <td>69.694647</td>\n",
       "      <td>0.966844</td>\n",
       "      <td>0.333179</td>\n",
       "      <td>2.688524e+01</td>\n",
       "      <td>False</td>\n",
       "    </tr>\n",
       "    <tr>\n",
       "      <th>3</th>\n",
       "      <td>374.393550</td>\n",
       "      <td>844.850426</td>\n",
       "      <td>367.013346</td>\n",
       "      <td>55.435890</td>\n",
       "      <td>11.381741</td>\n",
       "      <td>91.979230</td>\n",
       "      <td>12</td>\n",
       "      <td>19.978461</td>\n",
       "      <td>0.967343</td>\n",
       "      <td>0.333521</td>\n",
       "      <td>3.658118e+03</td>\n",
       "      <td>False</td>\n",
       "    </tr>\n",
       "    <tr>\n",
       "      <th>4</th>\n",
       "      <td>481.337789</td>\n",
       "      <td>753.228695</td>\n",
       "      <td>253.915439</td>\n",
       "      <td>46.508656</td>\n",
       "      <td>14.581596</td>\n",
       "      <td>361.466801</td>\n",
       "      <td>6</td>\n",
       "      <td>98.089775</td>\n",
       "      <td>0.967559</td>\n",
       "      <td>0.334767</td>\n",
       "      <td>2.758768e+04</td>\n",
       "      <td>False</td>\n",
       "    </tr>\n",
       "    <tr>\n",
       "      <th>...</th>\n",
       "      <td>...</td>\n",
       "      <td>...</td>\n",
       "      <td>...</td>\n",
       "      <td>...</td>\n",
       "      <td>...</td>\n",
       "      <td>...</td>\n",
       "      <td>...</td>\n",
       "      <td>...</td>\n",
       "      <td>...</td>\n",
       "      <td>...</td>\n",
       "      <td>...</td>\n",
       "      <td>...</td>\n",
       "    </tr>\n",
       "    <tr>\n",
       "      <th>95</th>\n",
       "      <td>68.752728</td>\n",
       "      <td>347.402025</td>\n",
       "      <td>457.449835</td>\n",
       "      <td>58.706515</td>\n",
       "      <td>9.468509</td>\n",
       "      <td>1357.443294</td>\n",
       "      <td>4</td>\n",
       "      <td>41.991330</td>\n",
       "      <td>0.945828</td>\n",
       "      <td>0.431949</td>\n",
       "      <td>1.298360e+05</td>\n",
       "      <td>False</td>\n",
       "    </tr>\n",
       "    <tr>\n",
       "      <th>96</th>\n",
       "      <td>251.811650</td>\n",
       "      <td>294.064249</td>\n",
       "      <td>322.501148</td>\n",
       "      <td>89.271565</td>\n",
       "      <td>12.504753</td>\n",
       "      <td>99.506477</td>\n",
       "      <td>6</td>\n",
       "      <td>62.431139</td>\n",
       "      <td>0.947256</td>\n",
       "      <td>0.437924</td>\n",
       "      <td>1.140275e+03</td>\n",
       "      <td>False</td>\n",
       "    </tr>\n",
       "    <tr>\n",
       "      <th>97</th>\n",
       "      <td>59.285588</td>\n",
       "      <td>30.263004</td>\n",
       "      <td>644.113374</td>\n",
       "      <td>41.161181</td>\n",
       "      <td>6.496132</td>\n",
       "      <td>33113.122757</td>\n",
       "      <td>4</td>\n",
       "      <td>61.965649</td>\n",
       "      <td>0.944601</td>\n",
       "      <td>0.429877</td>\n",
       "      <td>3.305431e+06</td>\n",
       "      <td>True</td>\n",
       "    </tr>\n",
       "    <tr>\n",
       "      <th>98</th>\n",
       "      <td>110.473324</td>\n",
       "      <td>328.070634</td>\n",
       "      <td>425.782501</td>\n",
       "      <td>110.385309</td>\n",
       "      <td>10.091622</td>\n",
       "      <td>126.925594</td>\n",
       "      <td>6</td>\n",
       "      <td>66.080629</td>\n",
       "      <td>0.946405</td>\n",
       "      <td>0.431116</td>\n",
       "      <td>2.764681e+03</td>\n",
       "      <td>False</td>\n",
       "    </tr>\n",
       "    <tr>\n",
       "      <th>99</th>\n",
       "      <td>341.612649</td>\n",
       "      <td>333.427412</td>\n",
       "      <td>229.854258</td>\n",
       "      <td>51.310576</td>\n",
       "      <td>15.446327</td>\n",
       "      <td>139015.750765</td>\n",
       "      <td>4</td>\n",
       "      <td>8.099453</td>\n",
       "      <td>0.946171</td>\n",
       "      <td>0.442056</td>\n",
       "      <td>1.389743e+07</td>\n",
       "      <td>True</td>\n",
       "    </tr>\n",
       "  </tbody>\n",
       "</table>\n",
       "<p>100 rows × 12 columns</p>\n",
       "</div>"
      ],
      "text/plain": [
       "             x           y  distance_from_base_station  \\\n",
       "0   579.290839  568.070537                  104.501843   \n",
       "1   655.583396  923.816620                  451.471727   \n",
       "2   991.407144  912.081070                  641.320349   \n",
       "3   374.393550  844.850426                  367.013346   \n",
       "4   481.337789  753.228695                  253.915439   \n",
       "..         ...         ...                         ...   \n",
       "95   68.752728  347.402025                  457.449835   \n",
       "96  251.811650  294.064249                  322.501148   \n",
       "97   59.285588   30.263004                  644.113374   \n",
       "98  110.473324  328.070634                  425.782501   \n",
       "99  341.612649  333.427412                  229.854258   \n",
       "\n",
       "    battery_discharge_rate      power  master_parameter  memory  cpu_power  \\\n",
       "0                43.681927  22.292899         88.473970       8   0.368672   \n",
       "1                52.962181   9.582767         52.133276       6  22.639912   \n",
       "2                58.190389   6.533878         79.478309      12  69.694647   \n",
       "3                55.435890  11.381741         91.979230      12  19.978461   \n",
       "4                46.508656  14.581596        361.466801       6  98.089775   \n",
       "..                     ...        ...               ...     ...        ...   \n",
       "95               58.706515   9.468509       1357.443294       4  41.991330   \n",
       "96               89.271565  12.504753         99.506477       6  62.431139   \n",
       "97               41.161181   6.496132      33113.122757       4  61.965649   \n",
       "98              110.385309  10.091622        126.925594       6  66.080629   \n",
       "99               51.310576  15.446327     139015.750765       4   8.099453   \n",
       "\n",
       "         qos       qoe     data_rate  eligibility  \n",
       "0   0.968580  0.344283  4.730222e+03        False  \n",
       "1   0.966924  0.330537  3.540846e+02        False  \n",
       "2   0.966844  0.333179  2.688524e+01        False  \n",
       "3   0.967343  0.333521  3.658118e+03        False  \n",
       "4   0.967559  0.334767  2.758768e+04        False  \n",
       "..       ...       ...           ...          ...  \n",
       "95  0.945828  0.431949  1.298360e+05        False  \n",
       "96  0.947256  0.437924  1.140275e+03        False  \n",
       "97  0.944601  0.429877  3.305431e+06         True  \n",
       "98  0.946405  0.431116  2.764681e+03        False  \n",
       "99  0.946171  0.442056  1.389743e+07         True  \n",
       "\n",
       "[100 rows x 12 columns]"
      ]
     },
     "execution_count": 30,
     "metadata": {},
     "output_type": "execute_result"
    }
   ],
   "source": [
    "final"
   ]
  },
  {
   "cell_type": "code",
   "execution_count": 31,
   "metadata": {},
   "outputs": [],
   "source": [
    "# df1 = pd.read_csv('./Trial/simulation_1000.csv', index_col=0)\n",
    "# df1 = df1.drop(['master_parameter'], axis=1)\n",
    "# df1\n",
    "# df2 = pd.read_csv('./Data/master_dataset.csv', index_col=None)\n",
    "# df2\n",
    "# df3 = pd.read_csv('./Trial/simulation_2500.csv', index_col=0)\n",
    "# df3\n",
    "# print(df1.shape)\n",
    "# print(df2.shape)\n",
    "# print(df3.shape)\n",
    "# li = [df1, df2, df3]\n",
    "# frame = pd.concat(li, axis=0, ignore_index=True)\n",
    "# frame\n",
    "# import missingno as msno\n",
    "# print(msno.matrix(frame))\n",
    "# frame.to_csv('./Trial/master_simulation_1000_2500.csv')"
   ]
  }
 ],
 "metadata": {
  "colab": {
   "collapsed_sections": [],
   "name": "simulation.ipynb",
   "provenance": []
  },
  "kernelspec": {
   "display_name": "Python 3",
   "language": "python",
   "name": "python3"
  },
  "language_info": {
   "codemirror_mode": {
    "name": "ipython",
    "version": 3
   },
   "file_extension": ".py",
   "mimetype": "text/x-python",
   "name": "python",
   "nbconvert_exporter": "python",
   "pygments_lexer": "ipython3",
   "version": "3.6.13"
  }
 },
 "nbformat": 4,
 "nbformat_minor": 1
}
